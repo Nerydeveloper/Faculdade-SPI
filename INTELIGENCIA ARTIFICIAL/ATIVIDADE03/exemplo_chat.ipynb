{
 "cells": [
  {
   "cell_type": "code",
   "execution_count": 1,
   "metadata": {},
   "outputs": [
    {
     "name": "stdout",
     "output_type": "stream",
     "text": [
      "Status: Optimal\n",
      "Quantidade de Carne: 0.0\n",
      "Quantidade de Ovos: 6.0\n",
      "Custo Total: 15.0\n"
     ]
    }
   ],
   "source": [
    "# Importando a biblioteca PULP\n",
    "from pulp import LpProblem, LpMinimize, LpVariable, lpSum, LpStatus, value\n",
    "\n",
    "# Criando o problema\n",
    "problem = LpProblem(\"Minimize_Cost\", LpMinimize)\n",
    "\n",
    "# Variáveis de decisão\n",
    "x = LpVariable(\"Carne\", lowBound=0, cat='Continuous')  # Carne\n",
    "y = LpVariable(\"Ovos\", lowBound=0, cat='Continuous')   # Ovos\n",
    "\n",
    "# Função objetivo\n",
    "problem += 3 * x + 2.5 * y, \"Custo Total\"\n",
    "\n",
    "# Restrições\n",
    "problem += 4 * x + 8 * y >= 32, \"Restricao_Vitaminas\"\n",
    "problem += 6 * x + 6 * y >= 36, \"Restricao_Proteinas\"\n",
    "\n",
    "# Resolvendo o problema\n",
    "problem.solve()\n",
    "\n",
    "# Resultados\n",
    "print(\"Status:\", LpStatus[problem.status])\n",
    "print(\"Quantidade de Carne:\", value(x))\n",
    "print(\"Quantidade de Ovos:\", value(y))\n",
    "print(\"Custo Total:\", value(problem.objective))\n"
   ]
  }
 ],
 "metadata": {
  "kernelspec": {
   "display_name": "Python 3",
   "language": "python",
   "name": "python3"
  },
  "language_info": {
   "codemirror_mode": {
    "name": "ipython",
    "version": 3
   },
   "file_extension": ".py",
   "mimetype": "text/x-python",
   "name": "python",
   "nbconvert_exporter": "python",
   "pygments_lexer": "ipython3",
   "version": "3.12.4"
  }
 },
 "nbformat": 4,
 "nbformat_minor": 2
}
