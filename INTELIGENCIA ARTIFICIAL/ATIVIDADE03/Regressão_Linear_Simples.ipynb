{
  "cells": [
    {
      "cell_type": "code",
      "execution_count": 5,
      "metadata": {
        "colab": {
          "base_uri": "https://localhost:8080/"
        },
        "id": "TxQPONeUoqhc",
        "outputId": "f703cda0-00d7-4d81-a02a-27fe83a898bd"
      },
      "outputs": [
        {
          "ename": "ModuleNotFoundError",
          "evalue": "No module named 'pulp'",
          "output_type": "error",
          "traceback": [
            "\u001b[1;31m---------------------------------------------------------------------------\u001b[0m",
            "\u001b[1;31mModuleNotFoundError\u001b[0m                       Traceback (most recent call last)",
            "Cell \u001b[1;32mIn[5], line 1\u001b[0m\n\u001b[1;32m----> 1\u001b[0m \u001b[38;5;28;01mimport\u001b[39;00m \u001b[38;5;21;01mpulp\u001b[39;00m\n\u001b[0;32m      3\u001b[0m \u001b[38;5;66;03m# Definir o problema\u001b[39;00m\n\u001b[0;32m      4\u001b[0m problema \u001b[38;5;241m=\u001b[39m pulp\u001b[38;5;241m.\u001b[39mLpProblem(\u001b[38;5;124m\"\u001b[39m\u001b[38;5;124mMaximizar Lucro\u001b[39m\u001b[38;5;124m\"\u001b[39m, pulp\u001b[38;5;241m.\u001b[39mLpMaximize)\n",
            "\u001b[1;31mModuleNotFoundError\u001b[0m: No module named 'pulp'"
          ]
        }
      ],
      "source": [
        "from sklearn.datasets import fetch_california_housing\n",
        "from sklearn.model_selection import train_test_split\n",
        "from sklearn.linear_model import LinearRegression # importa o modelo \n",
        "# carrega os dados \n",
        "house_data = fetch_california_housing()\n",
        "X = house_data['data']\n",
        "y = house_data['target']\n",
        "\n",
        "X_train, X_test, y_train, y_test = train_test_split(X, y, test_size=0.2, random_state=42)\n",
        "\n",
        "\n",
        "regr = LinearRegression() # cria o modelo \n",
        "model_fitted=regr.fit(X_train, y_train) # treina o modelo\n",
        "\n",
        "r2_train = regr.score(X_train, y_train)\n",
        "r2_test = regr.score(X_test, y_test)\n",
        "\n",
        "print('R2 no set de treino: %.2f' % r2_train)\n",
        "print('R2 no set de teste: %.2f' % r2_test)"
      ]
    },
    {
      "cell_type": "markdown",
      "metadata": {
        "id": "uxB2FbE7qKys"
      },
      "source": [
        "**Outras Métricas**"
      ]
    },
    {
      "cell_type": "code",
      "execution_count": null,
      "metadata": {
        "colab": {
          "base_uri": "https://localhost:8080/"
        },
        "id": "nb04d5nBqKK2",
        "outputId": "727790fb-46cc-4129-8ca5-ff0e37d849c0"
      },
      "outputs": [
        {
          "name": "stdout",
          "output_type": "stream",
          "text": [
            "MSE no set de teste: 24.29\n",
            "MSE no set de treino: 21.64\n",
            "MAE no set de teste: 3.19\n",
            "MAE no set de treino: 3.31\n"
          ]
        }
      ],
      "source": [
        "from sklearn.metrics import mean_squared_error\n",
        "from sklearn.metrics import mean_absolute_error\t\n",
        "\n",
        "y_pred_test = model_fitted.predict(X_test)\n",
        "y_pred_train = model_fitted.predict(X_train)\n",
        "\n",
        "mse_test = mean_squared_error(y_test, y_pred_test)\n",
        "mse_treino = mean_squared_error(y_train, y_pred_train)\n",
        "\n",
        "mae_test = mean_absolute_error(y_test, y_pred_test)\n",
        "mae_treino = mean_absolute_error(y_train, y_pred_train)\n",
        "\n",
        "print('MSE no set de teste: %.2f' % mse_test)\n",
        "print('MSE no set de treino: %.2f' % mse_treino)\n",
        "\n",
        "print('MAE no set de teste: %.2f' % mae_test)\n",
        "print('MAE no set de treino: %.2f' % mae_treino)"
      ]
    }
  ],
  "metadata": {
    "colab": {
      "name": "Regressão Linear Simples.ipynb",
      "provenance": []
    },
    "kernelspec": {
      "display_name": "Python 3",
      "name": "python3"
    },
    "language_info": {
      "codemirror_mode": {
        "name": "ipython",
        "version": 3
      },
      "file_extension": ".py",
      "mimetype": "text/x-python",
      "name": "python",
      "nbconvert_exporter": "python",
      "pygments_lexer": "ipython3",
      "version": "3.12.4"
    }
  },
  "nbformat": 4,
  "nbformat_minor": 0
}
