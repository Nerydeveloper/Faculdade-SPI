{
 "cells": [
  {
   "cell_type": "code",
   "execution_count": 2,
   "metadata": {},
   "outputs": [
    {
     "name": "stdout",
     "output_type": "stream",
     "text": [
      "Status: Optimal\n",
      "Quantidade de Programa A: 3.0\n",
      "Quantidade de Programa B: 2.0\n",
      "Total de Telespectadores: 110000.0\n"
     ]
    }
   ],
   "source": [
    "from pulp import LpProblem, LpMaximize, LpVariable, lpSum, LpStatus, value\n",
    "\n",
    "\n",
    "problem = LpProblem(\"Maximize_Viewers\", LpMaximize)\n",
    "\n",
    "x = LpVariable(\"Programa_A\", lowBound=0, cat='Continuous')  # Programa A\n",
    "y = LpVariable(\"Programa_B\", lowBound=0, cat='Continuous')  # Programa B\n",
    "\n",
    "problem += 30000 * x + 10000 * y, \"Total_de_Telespectadores\"\n",
    "\n",
    "problem += 1 * x + 1 * y >= 5, \"Restricao_Propaganda\"\n",
    "problem += 20 * x + 10 * y <= 80, \"Restricao_Musica\"\n",
    "\n",
    "problem.solve()\n",
    "\n",
    "print(\"Status:\", LpStatus[problem.status])\n",
    "print(\"Quantidade de Programa A:\", value(x))\n",
    "print(\"Quantidade de Programa B:\", value(y))\n",
    "print(\"Total de Telespectadores:\", value(problem.objective))\n"
   ]
  }
 ],
 "metadata": {
  "kernelspec": {
   "display_name": "Python 3",
   "language": "python",
   "name": "python3"
  },
  "language_info": {
   "codemirror_mode": {
    "name": "ipython",
    "version": 3
   },
   "file_extension": ".py",
   "mimetype": "text/x-python",
   "name": "python",
   "nbconvert_exporter": "python",
   "pygments_lexer": "ipython3",
   "version": "3.12.4"
  }
 },
 "nbformat": 4,
 "nbformat_minor": 2
}
