{
 "cells": [
  {
   "cell_type": "code",
   "execution_count": 1,
   "metadata": {},
   "outputs": [
    {
     "name": "stdout",
     "output_type": "stream",
     "text": [
      "Status: Optimal\n",
      "Quantidade de Caminhões tipo A: 2.0\n",
      "Quantidade de Caminhões tipo B: 6.0\n",
      "Consumo Total de Combustível: 6700.0\n"
     ]
    }
   ],
   "source": [
    "# Importando a biblioteca PULP\n",
    "from pulp import LpProblem, LpMinimize, LpVariable, lpSum, LpStatus, value\n",
    "\n",
    "# Criando o problema\n",
    "problem = LpProblem(\"Minimize_Fuel_Consumption\", LpMinimize)\n",
    "\n",
    "# Variáveis de decisão\n",
    "x = LpVariable(\"Caminhao_A\", lowBound=0, cat='Continuous')  # Caminhão tipo A\n",
    "y = LpVariable(\"Caminhao_B\", lowBound=0, cat='Continuous')  # Caminhão tipo B\n",
    "\n",
    "# Função objetivo\n",
    "problem += 1100 * x + 750 * y, \"Consumo Total de Combustível\"\n",
    "\n",
    "# Restrições\n",
    "problem += 2 * x + 2 * y >= 16, \"Restricao_Espaco_Refrigerado\"\n",
    "problem += 3 * x + 1 * y >= 12, \"Restricao_Espaco_Nao_Refrigerado\"\n",
    "\n",
    "# Resolvendo o problema\n",
    "problem.solve()\n",
    "\n",
    "# Resultados\n",
    "print(\"Status:\", LpStatus[problem.status])\n",
    "print(\"Quantidade de Caminhões tipo A:\", value(x))\n",
    "print(\"Quantidade de Caminhões tipo B:\", value(y))\n",
    "print(\"Consumo Total de Combustível:\", value(problem.objective))\n"
   ]
  }
 ],
 "metadata": {
  "kernelspec": {
   "display_name": "Python 3",
   "language": "python",
   "name": "python3"
  },
  "language_info": {
   "codemirror_mode": {
    "name": "ipython",
    "version": 3
   },
   "file_extension": ".py",
   "mimetype": "text/x-python",
   "name": "python",
   "nbconvert_exporter": "python",
   "pygments_lexer": "ipython3",
   "version": "3.12.4"
  }
 },
 "nbformat": 4,
 "nbformat_minor": 2
}
