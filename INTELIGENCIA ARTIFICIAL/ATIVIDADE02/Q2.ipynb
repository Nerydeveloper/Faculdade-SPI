{
 "cells": [
  {
   "cell_type": "code",
   "execution_count": 1,
   "metadata": {},
   "outputs": [
    {
     "name": "stdout",
     "output_type": "stream",
     "text": [
      "Status: Optimal\n",
      "Quantidade de Ração Skits: 10000.0\n",
      "Quantidade de Ração Benji: 0.0\n",
      "Lucro Total: 200000.0\n"
     ]
    }
   ],
   "source": [
    "from pulp import LpProblem, LpMaximize, LpVariable, lpSum, LpStatus, value\n",
    "\n",
    "\n",
    "problem = LpProblem(\"Maximize_Profit\", LpMaximize)\n",
    "\n",
    "\n",
    "x = LpVariable(\"Skits\", lowBound=0, cat='Continuous')  # Ração Skits\n",
    "y = LpVariable(\"Benji\", lowBound=0, cat='Continuous')   # Ração Benji\n",
    "\n",
    "\n",
    "problem += 20 * x + 30 * y, \"Lucro Total\"\n",
    "\n",
    "\n",
    "problem += 5 * x + 2 * y <= 90000, \"Restricao_Cereais\"\n",
    "problem += 1 * x + 4 * y <= 10000, \"Restricao_Came\"\n",
    "\n",
    "\n",
    "problem.solve()\n",
    "\n",
    "\n",
    "print(\"Status:\", LpStatus[problem.status])\n",
    "print(\"Quantidade de Ração Skits:\", value(x))\n",
    "print(\"Quantidade de Ração Benji:\", value(y))\n",
    "print(\"Lucro Total:\", value(problem.objective))\n"
   ]
  }
 ],
 "metadata": {
  "kernelspec": {
   "display_name": "Python 3",
   "language": "python",
   "name": "python3"
  },
  "language_info": {
   "codemirror_mode": {
    "name": "ipython",
    "version": 3
   },
   "file_extension": ".py",
   "mimetype": "text/x-python",
   "name": "python",
   "nbconvert_exporter": "python",
   "pygments_lexer": "ipython3",
   "version": "3.12.4"
  }
 },
 "nbformat": 4,
 "nbformat_minor": 2
}
