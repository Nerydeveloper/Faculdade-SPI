{
 "cells": [
  {
   "cell_type": "code",
   "execution_count": 1,
   "metadata": {},
   "outputs": [
    {
     "name": "stdout",
     "output_type": "stream",
     "text": [
      "Status: Optimal\n",
      "Quantidade de Carne: 0.0\n",
      "Quantidade de Ovos: 6.0\n",
      "Custo mínimo: 15.0\n"
     ]
    }
   ],
   "source": [
    "\n",
    "import pulp\n",
    "\n",
    "\n",
    "problema = pulp.LpProblem(\"Minimizar_Custo\", pulp.LpMinimize)\n",
    "\n",
    "x1 = pulp.LpVariable(\"Carne\", lowBound=0)\n",
    "x2 = pulp.LpVariable(\"Ovos\", lowBound=0)\n",
    "\n",
    "\n",
    "problema += 3*x1 + 2.5*x2, \"Custo Total\"\n",
    "\n",
    "problema += 4*x1 + 8*x2 >= 32, \"Restrição de Vitaminas\"\n",
    "problema += 6*x1 + 6*x2 >= 36, \"Restrição de Proteinas\"\n",
    "\n",
    " \n",
    "problema.solve()\n",
    "\n",
    "\n",
    "print(\"Status:\", pulp.LpStatus[problema.status])\n",
    "print(\"Quantidade de Carne:\", x1.varValue)\n",
    "print(\"Quantidade de Ovos:\", x2.varValue)\n",
    "print(\"Custo mínimo:\", pulp.value(problema.objective))\n"
   ]
  }
 ],
 "metadata": {
  "kernelspec": {
   "display_name": "Python 3",
   "language": "python",
   "name": "python3"
  },
  "language_info": {
   "codemirror_mode": {
    "name": "ipython",
    "version": 3
   },
   "file_extension": ".py",
   "mimetype": "text/x-python",
   "name": "python",
   "nbconvert_exporter": "python",
   "pygments_lexer": "ipython3",
   "version": "3.12.4"
  }
 },
 "nbformat": 4,
 "nbformat_minor": 2
}
